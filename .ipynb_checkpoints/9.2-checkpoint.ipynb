{
 "cells": [
  {
   "cell_type": "code",
   "execution_count": 2,
   "id": "32859eba",
   "metadata": {},
   "outputs": [
    {
     "name": "stdout",
     "output_type": "stream",
     "text": [
      "1\n",
      "3\n",
      "5\n",
      "7\n",
      "9\n"
     ]
    }
   ],
   "source": [
    "\"\"\"9.2 Define a generator function called get_odds() that returns the odd numbers from range(10).\n",
    "Use a for loop to find and print the third value returned.\"\"\"\n",
    "\n",
    "def get_odds(start, end):\n",
    "    for number in range(start, end):\n",
    "        if number % 2 != 0:\n",
    "            print(number)\n",
    "            \n",
    "            \n",
    "get_odds(0,10)\n"
   ]
  },
  {
   "cell_type": "code",
   "execution_count": 3,
   "id": "d17e9648",
   "metadata": {},
   "outputs": [
    {
     "name": "stdout",
     "output_type": "stream",
     "text": [
      "The third odd number is: 5\n"
     ]
    }
   ],
   "source": [
    "def get_odds(start, end):\n",
    "    count = 0\n",
    "    for number in range(start, end):\n",
    "        if number % 2 != 0:\n",
    "            count += 1\n",
    "            if count == 3:\n",
    "                print(\"The third odd number is:\", number)\n",
    "                break \n",
    "                \n",
    "\n",
    "get_odds(0,10)"
   ]
  },
  {
   "cell_type": "code",
   "execution_count": null,
   "id": "e5f524fa",
   "metadata": {},
   "outputs": [],
   "source": []
  }
 ],
 "metadata": {
  "kernelspec": {
   "display_name": "Python 3 (ipykernel)",
   "language": "python",
   "name": "python3"
  },
  "language_info": {
   "codemirror_mode": {
    "name": "ipython",
    "version": 3
   },
   "file_extension": ".py",
   "mimetype": "text/x-python",
   "name": "python",
   "nbconvert_exporter": "python",
   "pygments_lexer": "ipython3",
   "version": "3.11.5"
  }
 },
 "nbformat": 4,
 "nbformat_minor": 5
}
