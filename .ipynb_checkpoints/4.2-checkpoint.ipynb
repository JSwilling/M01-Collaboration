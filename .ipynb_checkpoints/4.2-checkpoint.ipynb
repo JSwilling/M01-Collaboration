{
 "cells": [
  {
   "cell_type": "code",
   "execution_count": 1,
   "id": "edf05f0c",
   "metadata": {},
   "outputs": [
    {
     "name": "stdout",
     "output_type": "stream",
     "text": [
      "Choose an item from the inventory: pea\n",
      "It's a small item.\n",
      "It's a green item.\n"
     ]
    }
   ],
   "source": [
    "\"\"\"4.2 Assign True or False to the variables small and green. \n",
    "Write some if/else statements to print which of these \n",
    "matches those choices: cherry, pea, watermelon, pumpkin.\"\"\"\n",
    "\n",
    "inventory = [\"cherry\", \"pea\", \"watermelon\", \"pumpkin\"]\n",
    "choice = input(\"Choose an item from the inventory: \")\n",
    "\n",
    "small = False\n",
    "green = False\n",
    "\n",
    "if choice in inventory:\n",
    "    if choice == inventory[0]:\n",
    "        small = True\n",
    "    if choice == inventory[1]:\n",
    "        small = True\n",
    "        green = True\n",
    "    if choice == inventory[2]:\n",
    "        green = True\n",
    "    if choice == inventory[3]:\n",
    "        small = False\n",
    "\n",
    "    if small:\n",
    "        print(\"It's a small item.\")\n",
    "    if green:\n",
    "        print(\"It's a green item.\")\n",
    "else:\n",
    "    print(\"Your choice is not in the inventory.\")\n"
   ]
  },
  {
   "cell_type": "code",
   "execution_count": null,
   "id": "99b4837b",
   "metadata": {},
   "outputs": [],
   "source": []
  }
 ],
 "metadata": {
  "kernelspec": {
   "display_name": "Python 3 (ipykernel)",
   "language": "python",
   "name": "python3"
  },
  "language_info": {
   "codemirror_mode": {
    "name": "ipython",
    "version": 3
   },
   "file_extension": ".py",
   "mimetype": "text/x-python",
   "name": "python",
   "nbconvert_exporter": "python",
   "pygments_lexer": "ipython3",
   "version": "3.11.5"
  }
 },
 "nbformat": 4,
 "nbformat_minor": 5
}
