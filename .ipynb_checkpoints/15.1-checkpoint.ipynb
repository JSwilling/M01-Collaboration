{
 "cells": [
  {
   "cell_type": "code",
   "execution_count": null,
   "id": "89a20ec0",
   "metadata": {},
   "outputs": [],
   "source": [
    "\"\"\"15.1 Use multiprocessing to create three separate processes. \n",
    "Make each one wait a random number of seconds between zero and one,\n",
    "print the current time, and then exit.\"\"\"\n",
    "\n",
    "import multiprocessing\n",
    "from datetime import datetime\n",
    "import random\n",
    "import time\n",
    "\n",
    "def process_function():\n",
    "    sleep_time = random.uniform(0, 1)\n",
    "    \n",
    "    time.sleep(sleep_time)\n",
    "    \n",
    "    current_time = datetime.now().strftime(\"%Y-%m-%d %H:%M:%S\")\n",
    "    print(f\"Process {multiprocessing.current_process().name}: {current_time}\")\n",
    "    \n",
    "\n",
    "if __name__ == \"__main__\":\n",
    "    processes = []\n",
    "    for i in range(3):\n",
    "        process = multiprocessing.Process(target=process_function, name=f\"Process-{i+1}\")\n",
    "        processes.append(process)\n",
    "        process.start()\n",
    "\n",
    "    for process in processes:\n",
    "        process.join()\n"
   ]
  }
 ],
 "metadata": {
  "kernelspec": {
   "display_name": "Python 3 (ipykernel)",
   "language": "python",
   "name": "python3"
  },
  "language_info": {
   "codemirror_mode": {
    "name": "ipython",
    "version": 3
   },
   "file_extension": ".py",
   "mimetype": "text/x-python",
   "name": "python",
   "nbconvert_exporter": "python",
   "pygments_lexer": "ipython3",
   "version": "3.11.5"
  }
 },
 "nbformat": 4,
 "nbformat_minor": 5
}
