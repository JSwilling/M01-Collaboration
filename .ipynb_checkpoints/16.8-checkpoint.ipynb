{
 "cells": [
  {
   "cell_type": "code",
   "execution_count": 2,
   "id": "c4090cec",
   "metadata": {},
   "outputs": [
    {
     "name": "stdout",
     "output_type": "stream",
     "text": [
      "2023-11-18 18:37:34,617 INFO sqlalchemy.engine.Engine PRAGMA main.table_xinfo(\"books\")\n",
      "2023-11-18 18:37:34,617 INFO sqlalchemy.engine.Engine [raw sql] ()\n",
      "2023-11-18 18:37:34,618 INFO sqlalchemy.engine.Engine SELECT sql FROM  (SELECT * FROM sqlite_master UNION ALL   SELECT * FROM sqlite_temp_master) WHERE name = ? AND type = 'table'\n",
      "2023-11-18 18:37:34,618 INFO sqlalchemy.engine.Engine [raw sql] ('books',)\n",
      "2023-11-18 18:37:34,619 INFO sqlalchemy.engine.Engine PRAGMA main.foreign_key_list(\"books\")\n",
      "2023-11-18 18:37:34,619 INFO sqlalchemy.engine.Engine [raw sql] ()\n",
      "2023-11-18 18:37:34,620 INFO sqlalchemy.engine.Engine PRAGMA temp.foreign_key_list(\"books\")\n",
      "2023-11-18 18:37:34,620 INFO sqlalchemy.engine.Engine [raw sql] ()\n",
      "2023-11-18 18:37:34,620 INFO sqlalchemy.engine.Engine SELECT sql FROM  (SELECT * FROM sqlite_master UNION ALL   SELECT * FROM sqlite_temp_master) WHERE name = ? AND type = 'table'\n",
      "2023-11-18 18:37:34,621 INFO sqlalchemy.engine.Engine [raw sql] ('books',)\n",
      "2023-11-18 18:37:34,622 INFO sqlalchemy.engine.Engine PRAGMA main.index_list(\"books\")\n",
      "2023-11-18 18:37:34,622 INFO sqlalchemy.engine.Engine [raw sql] ()\n",
      "2023-11-18 18:37:34,623 INFO sqlalchemy.engine.Engine PRAGMA temp.index_list(\"books\")\n",
      "2023-11-18 18:37:34,623 INFO sqlalchemy.engine.Engine [raw sql] ()\n",
      "2023-11-18 18:37:34,624 INFO sqlalchemy.engine.Engine PRAGMA main.index_list(\"books\")\n",
      "2023-11-18 18:37:34,624 INFO sqlalchemy.engine.Engine [raw sql] ()\n",
      "2023-11-18 18:37:34,625 INFO sqlalchemy.engine.Engine PRAGMA temp.index_list(\"books\")\n",
      "2023-11-18 18:37:34,625 INFO sqlalchemy.engine.Engine [raw sql] ()\n",
      "2023-11-18 18:37:34,625 INFO sqlalchemy.engine.Engine SELECT sql FROM  (SELECT * FROM sqlite_master UNION ALL   SELECT * FROM sqlite_temp_master) WHERE name = ? AND type = 'table'\n",
      "2023-11-18 18:37:34,626 INFO sqlalchemy.engine.Engine [raw sql] ('books',)\n",
      "2023-11-18 18:37:34,627 INFO sqlalchemy.engine.Engine SELECT books.title \n",
      "FROM books ORDER BY books.title\n",
      "2023-11-18 18:37:34,628 INFO sqlalchemy.engine.Engine [generated in 0.00046s] ()\n"
     ]
    }
   ],
   "source": [
    "\"\"\"16.4 Use the sqlite3 module to create a SQLite database called books.db \n",
    "and a table called books with these fields: title (text), author (text), and year (integer).\"\"\"\n",
    "\n",
    "import sqlite3\n",
    "\n",
    "conn = sqlite3.connect('books.db')\n",
    "cursor = conn.cursor()\n",
    "\n",
    "# Create the books table\n",
    "cursor.execute('''\n",
    "    CREATE TABLE IF NOT EXISTS books (\n",
    "        title TEXT,\n",
    "        author TEXT,\n",
    "        year INTEGER\n",
    "    )\n",
    "''')\n",
    "\n",
    "conn.commit()\n",
    "conn.close()\n",
    "\n",
    "\n",
    "\"\"\"16.8 Use the sqlalchemy module to connect to the sqlite3 database books.db \n",
    "that you just made in exercise 16.4. As in 16.6, select and print the title \n",
    "column from the book table in alphabetical order.\"\"\"\n",
    "\n",
    "from sqlalchemy import create_engine, select, Table, MetaData\n",
    "\n",
    "# Create an SQLAlchemy engine\n",
    "engine = create_engine('sqlite:///books.db', echo=True)\n",
    "\n",
    "# Connect to the engine\n",
    "conn = engine.connect()\n",
    "\n",
    "# Reflect the existing table\n",
    "metadata = MetaData(engine)\n",
    "books_table = Table('books', metadata, autoload=True)\n",
    "\n",
    "# Select and print the title column from the book table in alphabetical order\n",
    "query = select([books_table.c.title]).order_by(books_table.c.title)\n",
    "result = conn.execute(query)\n",
    "\n",
    "for row in result:\n",
    "    print(row[0])\n",
    "\n",
    "# Close the connection\n",
    "conn.close()\n",
    "\n",
    "\n"
   ]
  },
  {
   "cell_type": "code",
   "execution_count": null,
   "id": "c10addce",
   "metadata": {},
   "outputs": [],
   "source": []
  }
 ],
 "metadata": {
  "kernelspec": {
   "display_name": "Python 3 (ipykernel)",
   "language": "python",
   "name": "python3"
  },
  "language_info": {
   "codemirror_mode": {
    "name": "ipython",
    "version": 3
   },
   "file_extension": ".py",
   "mimetype": "text/x-python",
   "name": "python",
   "nbconvert_exporter": "python",
   "pygments_lexer": "ipython3",
   "version": "3.11.5"
  }
 },
 "nbformat": 4,
 "nbformat_minor": 5
}
