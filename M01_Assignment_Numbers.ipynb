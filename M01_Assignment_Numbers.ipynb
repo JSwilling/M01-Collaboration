{
 "cells": [
  {
   "cell_type": "code",
   "execution_count": null,
   "id": "f8dcf2d8",
   "metadata": {},
   "outputs": [],
   "source": [
    "Python 3.9.13 (tags/v3.9.13:6de2ca5, May 17 2022, 16:36:42) [MSC v.1929 64 bit (AMD64)] on win32\n",
    "Type \"help\", \"copyright\", \"credits\" or \"license()\" for more information.\n",
    "\n",
    "\"\"\"3.1 How many seconds are in an hour? Use the interactive interpreter as \n",
    "a calculator and multiply the number of seconds in a minute (60) by the \n",
    "number of minutes in an hour (also 60).\"\"\"\n",
    "\n",
    ">>> 60 * 60\n",
    "3600\n",
    "\n",
    "\"\"\"3.2 Assign the result from the previous task (seconds in an hour)\n",
    "to a variable called seconds_per_hour.\"\"\"\n",
    "\n",
    ">>> seconds_per_hour = (60 * 60)\n",
    "\n",
    "\"\"\"3.3 How many seconds are in a day? Use your seconds_per_hour variable.\"\"\"\n",
    "\n",
    ">>> seconds_per_hour * 24\n",
    "86400\n",
    "\n",
    "\"\"\" 3.4 Calculate seconds per day again, but this time save the result \n",
    "in a variable called seconds_per_day.\"\"\"\n",
    "\n",
    ">>> seconds_per_day = (seconds_per_hour * 24)\n",
    "\n",
    "\"\"\"3.5 Divide seconds_per_day by seconds_per_hour. Use floating-point (/) division.\"\"\"\n",
    "\n",
    ">>> seconds_per_day / seconds_per_hour\n",
    "24.0\n",
    "\n",
    "\"\"\"3.6 Divide seconds_per_day by seconds_per_hour, using integer (//) division. \n",
    "Did this number agree with the floating-point value \n",
    "from the previous question, aside from the final .0?\"\"\"\n",
    "\n",
    ">>> seconds_per_day // seconds_per_hour\n",
    "24\n",
    ">>> yes"
   ]
  }
 ],
 "metadata": {
  "kernelspec": {
   "display_name": "Python 3 (ipykernel)",
   "language": "python",
   "name": "python3"
  },
  "language_info": {
   "codemirror_mode": {
    "name": "ipython",
    "version": 3
   },
   "file_extension": ".py",
   "mimetype": "text/x-python",
   "name": "python",
   "nbconvert_exporter": "python",
   "pygments_lexer": "ipython3",
   "version": "3.11.5"
  }
 },
 "nbformat": 4,
 "nbformat_minor": 5
}
