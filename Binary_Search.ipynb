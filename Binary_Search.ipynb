{
 "cells": [
  {
   "cell_type": "code",
   "execution_count": null,
   "id": "1f2bfc40",
   "metadata": {},
   "outputs": [],
   "source": [
    "\"\"\"Given a sorted array of size N and an integer K, \n",
    "find the position(0-based indexing) at which K is present in the array using binary search.\n",
    "\n",
    "Your Task:  \n",
    "You dont need to read input or print anything.\n",
    "Complete the function binarysearch() which takes arr[], N and K as input parameters and returns \n",
    "the index of K in the array. If K is not present in the array, return -1.\n",
    "\"\"\"\n",
    "\n",
    "class Solution:\t\n",
    "    def binarysearch(self, arr, n, k):\n",
    "        left, right = 0, n - 1\n",
    "\n",
    "        while left <= right:\n",
    "            mid = left + (right - left) // 2\n",
    "\n",
    "            # Check if k is present at the middle\n",
    "            if arr[mid] == k:\n",
    "                return mid\n",
    "\n",
    "            # If k is greater, ignore the left half\n",
    "            elif arr[mid] < k:\n",
    "                left = mid + 1\n",
    "\n",
    "            # If k is smaller, ignore the right half\n",
    "            else:\n",
    "                right = mid - 1\n",
    "\n",
    "        # If we reach here, the element was not present\n",
    "        return -1"
   ]
  }
 ],
 "metadata": {
  "kernelspec": {
   "display_name": "Python 3 (ipykernel)",
   "language": "python",
   "name": "python3"
  },
  "language_info": {
   "codemirror_mode": {
    "name": "ipython",
    "version": 3
   },
   "file_extension": ".py",
   "mimetype": "text/x-python",
   "name": "python",
   "nbconvert_exporter": "python",
   "pygments_lexer": "ipython3",
   "version": "3.11.5"
  }
 },
 "nbformat": 4,
 "nbformat_minor": 5
}
