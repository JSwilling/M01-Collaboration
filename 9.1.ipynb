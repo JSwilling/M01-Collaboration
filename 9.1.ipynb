{
 "cells": [
  {
   "cell_type": "code",
   "execution_count": 2,
   "id": "4c857f40",
   "metadata": {},
   "outputs": [
    {
     "data": {
      "text/plain": [
       "['Harry', 'Ron', 'Hermoine']"
      ]
     },
     "execution_count": 2,
     "metadata": {},
     "output_type": "execute_result"
    }
   ],
   "source": [
    "\"\"\"9.1 Define a function called good() that returns the following list:\n",
    "['Harry', 'Ron', 'Hermione'].\"\"\"\n",
    "\n",
    "def good():\n",
    "    cast = ['Harry','Ron','Hermoine']\n",
    "    return cast\n",
    "\n",
    "good()"
   ]
  },
  {
   "cell_type": "code",
   "execution_count": null,
   "id": "c41839b1",
   "metadata": {},
   "outputs": [],
   "source": []
  }
 ],
 "metadata": {
  "kernelspec": {
   "display_name": "Python 3 (ipykernel)",
   "language": "python",
   "name": "python3"
  },
  "language_info": {
   "codemirror_mode": {
    "name": "ipython",
    "version": 3
   },
   "file_extension": ".py",
   "mimetype": "text/x-python",
   "name": "python",
   "nbconvert_exporter": "python",
   "pygments_lexer": "ipython3",
   "version": "3.11.5"
  }
 },
 "nbformat": 4,
 "nbformat_minor": 5
}
