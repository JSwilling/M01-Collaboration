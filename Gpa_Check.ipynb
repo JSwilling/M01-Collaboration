{
 "cells": [
  {
   "cell_type": "code",
   "execution_count": null,
   "id": "975f4783",
   "metadata": {},
   "outputs": [],
   "source": [
    "\"\"\"\n",
    "Program: Gpa_Check.ipynb\n",
    "Author: Josh Swilling\n",
    "Goal: Define a function to check student qualifications against\n",
    "    a certain value by creating an empty list to store student data\n",
    "      to present.\n",
    "1. Significant constants\n",
    "    deans list: >= 3.5\n",
    "    honor roll: >= 3.25\n",
    "      \n",
    "2. The inputs are:\n",
    "    first name\n",
    "    last name\n",
    "    grade point average\n",
    "      \n",
    "3. Computations:\n",
    "    greater than/less than\n",
    "     \n",
    "4. The outputs are:\n",
    "    listed GPA and qualification status.    \n",
    "\"\"\"\n",
    "\n",
    "def gpa_check():\n",
    "    gpa_list = []\n",
    "\n",
    "    first_name = input(\"Enter your first name or 'ZZZ' to quit: \")\n",
    "    while first_name != 'ZZZ':\n",
    "        last_name = input(\"Enter your last name: \")\n",
    "        GPA = float(input(\"Enter your GPA: \"))\n",
    "        # Determine the qualification based on the GPA\n",
    "        if GPA >= 3.5:\n",
    "            qualification = \"DEAN'S LIST\"\n",
    "        elif GPA >= 3.25:\n",
    "            qualification = \"HONOR ROLL\"\n",
    "        else:\n",
    "            qualification = \"Not listed\"\n",
    "        gpa_list.append((first_name, last_name, GPA, qualification))\n",
    "        first_name = input(\"Enter another name (or 'ZZZ' to quit):\")\n",
    "\n",
    "    print(\"\\nResults:\")\n",
    "    for student in gpa_list:\n",
    "        first_name, last_name, GPA, qualification = student\n",
    "        print(f\"{last_name}, {first_name}: \\n GPA: {GPA} - {qualification}\")\n",
    "\n",
    "if __name__ == \"__main__\":\n",
    "    gpa_check()\n"
   ]
  }
 ],
 "metadata": {
  "kernelspec": {
   "display_name": "Python 3 (ipykernel)",
   "language": "python",
   "name": "python3"
  },
  "language_info": {
   "codemirror_mode": {
    "name": "ipython",
    "version": 3
   },
   "file_extension": ".py",
   "mimetype": "text/x-python",
   "name": "python",
   "nbconvert_exporter": "python",
   "pygments_lexer": "ipython3",
   "version": "3.11.5"
  }
 },
 "nbformat": 4,
 "nbformat_minor": 5
}
