{
 "cells": [
  {
   "cell_type": "code",
   "execution_count": 3,
   "id": "6cf70f4e",
   "metadata": {},
   "outputs": [
    {
     "name": "stdout",
     "output_type": "stream",
     "text": [
      "Guess a number through 1 and 101\n",
      "too low\n"
     ]
    }
   ],
   "source": [
    "\"\"\"4.1 Choose a number between 1 and 10 and assign it to the variable secret. \n",
    "Then, select another number between 1 and 10 and assign it to the variable guess.\n",
    "Next, write the conditional tests (if, else, and elif) to print the string 'too low'\n",
    "if guess is less than secret, 'too high' if greater than secret, and 'just right' if equal to secret.\"\"\"\n",
    "\n",
    "secret = 3\n",
    "guess = int(input(\"Guess a number through 1 and 10\"))\n",
    "\n",
    "if guess > 10 or guess < 0:\n",
    "    print(\"Make sure to guess 1-10\")\n",
    "    \n",
    "elif guess == secret:\n",
    "    print(\"just right\")\n",
    "elif guess > secret:\n",
    "    print(\"too high\")\n",
    "else:\n",
    "    print(\"too low\")"
   ]
  }
 ],
 "metadata": {
  "kernelspec": {
   "display_name": "Python 3 (ipykernel)",
   "language": "python",
   "name": "python3"
  },
  "language_info": {
   "codemirror_mode": {
    "name": "ipython",
    "version": 3
   },
   "file_extension": ".py",
   "mimetype": "text/x-python",
   "name": "python",
   "nbconvert_exporter": "python",
   "pygments_lexer": "ipython3",
   "version": "3.11.5"
  }
 },
 "nbformat": 4,
 "nbformat_minor": 5
}
