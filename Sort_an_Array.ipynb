{
 "cells": [
  {
   "cell_type": "code",
   "execution_count": null,
   "id": "fe379896",
   "metadata": {},
   "outputs": [],
   "source": [
    "\"\"\"Given an array of size N containing only 0s, 1s, and 2s;\n",
    "sort the array in ascending order.\n",
    "\n",
    "Your Task:\n",
    "You don't need to read input or print anything. \n",
    "Your task is to complete the function sort012() that takes an array arr \n",
    "and N as input parameters and sorts the array in-place.\n",
    "\"\"\"\n",
    "\n",
    "#User function Template for python3\n",
    "\n",
    "class Solution:\n",
    "    def sort012(self, arr, n):\n",
    "        # Initialize three pointers: low, mid, and high\n",
    "        low = 0\n",
    "        high = n - 1\n",
    "        mid = 0\n",
    "\n",
    "        # Loop through the array until mid pointer meets the high pointer\n",
    "        while mid <= high:\n",
    "            # If the element at the mid pointer is 0, swap it with the element at the low pointer\n",
    "            # Move both low and mid pointers ahead\n",
    "            if arr[mid] == 0:\n",
    "                arr[low], arr[mid] = arr[mid], arr[low]\n",
    "                low += 1\n",
    "                mid += 1\n",
    "            # If the element at the mid pointer is 1, just move the mid pointer ahead\n",
    "            elif arr[mid] == 1:\n",
    "                mid += 1\n",
    "            # If the element at the mid pointer is 2, swap it with the element at the high pointer\n",
    "            # Move the high pointer back one step\n",
    "            else:\n",
    "                arr[mid], arr[high] = arr[high], arr[mid]\n",
    "                high -= 1\n",
    "\n",
    "        # Return the sorted array\n",
    "        return arr\n"
   ]
  }
 ],
 "metadata": {
  "kernelspec": {
   "display_name": "Python 3 (ipykernel)",
   "language": "python",
   "name": "python3"
  },
  "language_info": {
   "codemirror_mode": {
    "name": "ipython",
    "version": 3
   },
   "file_extension": ".py",
   "mimetype": "text/x-python",
   "name": "python",
   "nbconvert_exporter": "python",
   "pygments_lexer": "ipython3",
   "version": "3.11.5"
  }
 },
 "nbformat": 4,
 "nbformat_minor": 5
}
